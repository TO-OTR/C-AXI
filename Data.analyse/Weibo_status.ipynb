{
 "cells": [
  {
   "cell_type": "code",
   "execution_count": null,
   "metadata": {},
   "outputs": [],
   "source": [
    "import pandas as pd\n",
    "import jieba\n",
    "import jieba.analyse\n",
    "import xlwt\n",
    "import csv\n",
    "\n",
    "\n",
    "wbk = xlwt.Workbook(encoding = 'utf-8')\n",
    "sheet = wbk.add_sheet(\"wordCount\")\n",
    "word_lst = []\n",
    "key_list=[]\n",
    "\n",
    "if __name__==\"__main__\":\n",
    " \n",
    "    wbk = xlwt.Workbook(encoding = 'utf-8')\n",
    "    sheet = wbk.add_sheet('wordCount')#Excel单元格名字\n",
    "    word_lst = []\n",
    "    key_list=[]\n",
    "    \n",
    "    stopwords = [line.strip() for line in open('stopwords.txt').readlines()]\n",
    "\n",
    "    for line in open('weibo_status.xls','r', encoding='UTF-8'):#1.txt是需要分词统计的文档\n",
    "        item = line.strip('\\n\\r').split('\\t') #制表格切分\n",
    "        # print item\n",
    "        tags = jieba.analyse.extract_tags(item[0]) #jieba分词\n",
    "        for t in tags:\n",
    "            word_lst.append(t)\n",
    " \n",
    "    word_dict= {}\n",
    "    with open(\"wordCountweibo_status.txt\",'w') as wf2: #打开文件\n",
    " \n",
    "        for item in word_lst:\n",
    "            if item not in stopwords:\n",
    "                if not item.isdigit():\n",
    "                    if item not in word_dict: #统计数量\n",
    "                        word_dict[item] = 1\n",
    "                    else:\n",
    "                        word_dict[item] += 1\n",
    "         \n",
    "        orderList=list(word_dict.values())\n",
    "        orderList.sort(reverse=True)\n",
    "        # print orderList\n",
    "        for i in range(len(orderList)):\n",
    "            for key in word_dict:\n",
    "                if word_dict[key]==orderList[i]:\n",
    "                    wf2.write(key+' '+str(word_dict[key])+'\\n') #写入txt文档\n",
    "                    key_list.append(key)\n",
    "                    word_dict[key]=0\n",
    "    \n",
    "    \n",
    "    for i in range(len(key_list)):\n",
    "        sheet.write(i, 1, label = orderList[i])\n",
    "        sheet.write(i, 0, label = key_list[i])\n",
    "    wbk.save('wordCountweibo_status.xls') #保存为 wordCountweibo_status.xls文件\n"
   ]
  },
  {
   "cell_type": "code",
   "execution_count": null,
   "metadata": {},
   "outputs": [],
   "source": []
  },
  {
   "cell_type": "code",
   "execution_count": null,
   "metadata": {},
   "outputs": [],
   "source": []
  }
 ],
 "metadata": {
  "kernelspec": {
   "display_name": "Python 3",
   "language": "python",
   "name": "python3"
  },
  "language_info": {
   "codemirror_mode": {
    "name": "ipython",
    "version": 3
   },
   "file_extension": ".py",
   "mimetype": "text/x-python",
   "name": "python",
   "nbconvert_exporter": "python",
   "pygments_lexer": "ipython3",
   "version": "3.6.4"
  }
 },
 "nbformat": 4,
 "nbformat_minor": 2
}
